{
 "cells": [
  {
   "cell_type": "code",
   "execution_count": 1,
   "id": "9756e0eb",
   "metadata": {},
   "outputs": [],
   "source": [
    "list1 = [[\"b\", \"a\"], [\"c\", \"d\"], [\"a\", \"c\"], [\"g\", \"h\"], [\"i\", \"j\"]]"
   ]
  },
  {
   "cell_type": "code",
   "execution_count": 2,
   "id": "aed90dfb",
   "metadata": {},
   "outputs": [],
   "source": [
    "list0 = [\"a\", \"b\", \"c\", \"d\", \"e\", \"f\", \"g\", \"h\", \"i\", \"j\"]"
   ]
  },
  {
   "cell_type": "code",
   "execution_count": null,
   "id": "53f7abe5",
   "metadata": {},
   "outputs": [],
   "source": []
  },
  {
   "cell_type": "code",
   "execution_count": null,
   "id": "5fd839cd",
   "metadata": {},
   "outputs": [],
   "source": []
  },
  {
   "cell_type": "code",
   "execution_count": 3,
   "id": "9130f7c8",
   "metadata": {},
   "outputs": [
    {
     "name": "stdout",
     "output_type": "stream",
     "text": [
      "start item a\n",
      "to check :  item a next item :  b\n",
      "checked :  ['b', 'a']\n",
      "True\n",
      "to check :  item a next item :  c\n",
      "checked :  ['c', 'd']\n",
      "to check :  item a next item :  c\n",
      "checked :  ['a', 'c']\n",
      "True\n",
      "to check :  item a next item :  d\n",
      "checked :  ['g', 'h']\n",
      "to check :  item a next item :  d\n",
      "checked :  ['i', 'j']\n"
     ]
    },
    {
     "ename": "TypeError",
     "evalue": "descriptor 'remove' for 'list' objects doesn't apply to a 'str' object",
     "output_type": "error",
     "traceback": [
      "\u001b[0;31m---------------------------------------------------------------------------\u001b[0m",
      "\u001b[0;31mTypeError\u001b[0m                                 Traceback (most recent call last)",
      "Input \u001b[0;32mIn [3]\u001b[0m, in \u001b[0;36m<cell line: 5>\u001b[0;34m()\u001b[0m\n\u001b[1;32m     18\u001b[0m         y \u001b[38;5;241m+\u001b[39m\u001b[38;5;241m=\u001b[39m \u001b[38;5;241m1\u001b[39m\n\u001b[1;32m     21\u001b[0m pairs\u001b[38;5;241m.\u001b[39mappend([item, next_item])\n\u001b[0;32m---> 22\u001b[0m \u001b[38;5;28;43mlist\u001b[39;49m\u001b[38;5;241;43m.\u001b[39;49m\u001b[43mremove\u001b[49m\u001b[43m(\u001b[49m\u001b[43mnext_item\u001b[49m\u001b[43m)\u001b[49m\n\u001b[1;32m     23\u001b[0m lsit\u001b[38;5;241m.\u001b[39mremove(item)\n\u001b[1;32m     24\u001b[0m \u001b[38;5;28mprint\u001b[39m()\n",
      "\u001b[0;31mTypeError\u001b[0m: descriptor 'remove' for 'list' objects doesn't apply to a 'str' object"
     ]
    }
   ],
   "source": [
    "pairs = []\n",
    "\n",
    "y =1\n",
    "\n",
    "for item in list0:\n",
    "    print(\"start item\", item)\n",
    "    #while y < len(list0):\n",
    "                \n",
    "    for pair in list1:\n",
    "        next_item = list0[y]\n",
    "        print(\"to check : \", \"item\", item, \"next item : \", next_item)\n",
    "        print(\"checked : \", pair)\n",
    "\n",
    "        result = all(elem in pair for elem in [item, next_item])\n",
    "\n",
    "        if result == True:\n",
    "            print(result)\n",
    "            y += 1\n",
    "        \n",
    "        \n",
    "    pairs.append([item, next_item])\n",
    "    list.remove(next_item)\n",
    "    lsit.remove(item)\n",
    "    print()\n",
    "    print(\"y\", y)\n",
    "    print(\"list\", list0)\n",
    "                \n",
    "        \n",
    "\n",
    "\n",
    "\n"
   ]
  },
  {
   "cell_type": "code",
   "execution_count": null,
   "id": "053febb3",
   "metadata": {},
   "outputs": [],
   "source": [
    "\n",
    "\n"
   ]
  },
  {
   "cell_type": "code",
   "execution_count": null,
   "id": "78afd615",
   "metadata": {},
   "outputs": [],
   "source": [
    "print(pairs)"
   ]
  },
  {
   "cell_type": "code",
   "execution_count": null,
   "id": "1bda2d08",
   "metadata": {},
   "outputs": [],
   "source": [
    "del list0[y]\n",
    "print()\n",
    "print(list0)\n",
    "print()"
   ]
  }
 ],
 "metadata": {
  "kernelspec": {
   "display_name": "Python 3 (ipykernel)",
   "language": "python",
   "name": "python3"
  },
  "language_info": {
   "codemirror_mode": {
    "name": "ipython",
    "version": 3
   },
   "file_extension": ".py",
   "mimetype": "text/x-python",
   "name": "python",
   "nbconvert_exporter": "python",
   "pygments_lexer": "ipython3",
   "version": "3.9.12"
  }
 },
 "nbformat": 4,
 "nbformat_minor": 5
}
