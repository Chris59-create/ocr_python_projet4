{
 "cells": [
  {
   "cell_type": "code",
   "execution_count": 2,
   "id": "eb0869d5",
   "metadata": {},
   "outputs": [],
   "source": [
    "class Test:\n",
    "    def __init__(self, name):\n",
    "        self.name = name\n",
    "        self.scores = []\n",
    "        \n",
    "    def add_score(self, score):\n",
    "        self.score = score"
   ]
  },
  {
   "cell_type": "code",
   "execution_count": 3,
   "id": "12478177",
   "metadata": {},
   "outputs": [],
   "source": [
    "player1 = Test(\"name1\")\n",
    "player2 = Test(\"name2\")\n",
    "player3 = Test(\"name3\")\n",
    "player4 = Test(\"name4\")"
   ]
  },
  {
   "cell_type": "code",
   "execution_count": 4,
   "id": "4321298d",
   "metadata": {},
   "outputs": [],
   "source": [
    "player1.add_score(3)"
   ]
  },
  {
   "cell_type": "code",
   "execution_count": 5,
   "id": "5a26041f",
   "metadata": {},
   "outputs": [],
   "source": [
    "player2.add_score(1)"
   ]
  },
  {
   "cell_type": "code",
   "execution_count": 6,
   "id": "d6c96c44",
   "metadata": {},
   "outputs": [],
   "source": [
    "player3.add_score(5)"
   ]
  },
  {
   "cell_type": "code",
   "execution_count": 7,
   "id": "36bfeb49",
   "metadata": {},
   "outputs": [],
   "source": [
    "player4.add_score(0)"
   ]
  },
  {
   "cell_type": "code",
   "execution_count": 8,
   "id": "f1e839a0",
   "metadata": {},
   "outputs": [
    {
     "name": "stdout",
     "output_type": "stream",
     "text": [
      "[]\n"
     ]
    }
   ],
   "source": [
    "print(player1.scores)"
   ]
  },
  {
   "cell_type": "code",
   "execution_count": 9,
   "id": "4b57da20",
   "metadata": {},
   "outputs": [
    {
     "name": "stdout",
     "output_type": "stream",
     "text": [
      "[]\n"
     ]
    }
   ],
   "source": [
    "print(player2.scores)"
   ]
  },
  {
   "cell_type": "code",
   "execution_count": 12,
   "id": "d138b5de",
   "metadata": {},
   "outputs": [],
   "source": [
    "list_scores = [[player1, player1.score], [player2, player2.score], [player3, player3.score], [player4, player4.score]]"
   ]
  },
  {
   "cell_type": "code",
   "execution_count": 13,
   "id": "7de83438",
   "metadata": {},
   "outputs": [
    {
     "name": "stdout",
     "output_type": "stream",
     "text": [
      "[[<__main__.Test object at 0x7fa0aa2f70d0>, 3], [<__main__.Test object at 0x7fa0aa2b5a60>, 1], [<__main__.Test object at 0x7fa0aa2f7370>, 5], [<__main__.Test object at 0x7fa0aa2f7af0>, 0]]\n"
     ]
    }
   ],
   "source": [
    "print(list_scores)"
   ]
  },
  {
   "cell_type": "code",
   "execution_count": 14,
   "id": "0e747f0c",
   "metadata": {},
   "outputs": [
    {
     "name": "stdout",
     "output_type": "stream",
     "text": [
      "[<__main__.Test object at 0x7fa0aa2f70d0>, 3]\n",
      "element <class 'list'>\n",
      "<class '__main__.Test'>\n",
      "<class 'int'>\n",
      "[<__main__.Test object at 0x7fa0aa2b5a60>, 1]\n",
      "element <class 'list'>\n",
      "<class '__main__.Test'>\n",
      "<class 'int'>\n",
      "[<__main__.Test object at 0x7fa0aa2f7370>, 5]\n",
      "element <class 'list'>\n",
      "<class '__main__.Test'>\n",
      "<class 'int'>\n",
      "[<__main__.Test object at 0x7fa0aa2f7af0>, 0]\n",
      "element <class 'list'>\n",
      "<class '__main__.Test'>\n",
      "<class 'int'>\n"
     ]
    }
   ],
   "source": [
    "for element in list_scores:\n",
    "    print(element)\n",
    "    print(\"element\", type(element))\n",
    "    \n",
    "    print(type(element[0]))\n",
    "    print(type(element[1]))\n",
    "    # print(f\"player : {x.name} - score : {x.score}\")"
   ]
  },
  {
   "cell_type": "code",
   "execution_count": 15,
   "id": "dde8f18f",
   "metadata": {},
   "outputs": [],
   "source": [
    "list_rounds = [1,2,3]"
   ]
  },
  {
   "cell_type": "code",
   "execution_count": 16,
   "id": "29b7ecbd",
   "metadata": {},
   "outputs": [],
   "source": [
    "REQUIERED_LEN_LIST = 5"
   ]
  },
  {
   "cell_type": "code",
   "execution_count": 17,
   "id": "52c799c2",
   "metadata": {},
   "outputs": [],
   "source": [
    "remaining_elements_to_add = REQUIERED_LEN_LIST - len(list_rounds)"
   ]
  },
  {
   "cell_type": "code",
   "execution_count": 18,
   "id": "d9b4cd46",
   "metadata": {},
   "outputs": [
    {
     "name": "stdout",
     "output_type": "stream",
     "text": [
      "2\n"
     ]
    }
   ],
   "source": [
    "print(remaining_elements_to_add)"
   ]
  },
  {
   "cell_type": "code",
   "execution_count": null,
   "id": "059dfa72",
   "metadata": {},
   "outputs": [],
   "source": [
    "while list_rounds:\n",
    "    print(\"ok\")\n",
    "    "
   ]
  }
 ],
 "metadata": {
  "kernelspec": {
   "display_name": "Python 3 (ipykernel)",
   "language": "python",
   "name": "python3"
  },
  "language_info": {
   "codemirror_mode": {
    "name": "ipython",
    "version": 3
   },
   "file_extension": ".py",
   "mimetype": "text/x-python",
   "name": "python",
   "nbconvert_exporter": "python",
   "pygments_lexer": "ipython3",
   "version": "3.9.12"
  }
 },
 "nbformat": 4,
 "nbformat_minor": 5
}
