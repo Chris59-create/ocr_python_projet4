{
 "cells": [
  {
   "cell_type": "code",
   "execution_count": 1,
   "id": "8e0aa807",
   "metadata": {},
   "outputs": [],
   "source": [
    "b = None"
   ]
  },
  {
   "cell_type": "code",
   "execution_count": 2,
   "id": "f8c69e28",
   "metadata": {},
   "outputs": [],
   "source": [
    "class Test:\n",
    "    def __init__(self):\n",
    "        print(\"objet instancié\")"
   ]
  },
  {
   "cell_type": "code",
   "execution_count": 3,
   "id": "fa5f9a87",
   "metadata": {},
   "outputs": [
    {
     "name": "stdout",
     "output_type": "stream",
     "text": [
      "in globals\n"
     ]
    }
   ],
   "source": [
    "if \"b\" not in globals():\n",
    "    print(\"not in globals\")\n",
    "else:\n",
    "    print(\"in globals\")"
   ]
  },
  {
   "cell_type": "code",
   "execution_count": 4,
   "id": "3d0200d4",
   "metadata": {},
   "outputs": [
    {
     "name": "stdout",
     "output_type": "stream",
     "text": [
      "objet non instancié\n"
     ]
    }
   ],
   "source": [
    "if isinstance(b, Test):\n",
    "    print(\"objet instancié\")\n",
    "else:\n",
    "    print(\"objet non instancié\")"
   ]
  },
  {
   "cell_type": "code",
   "execution_count": null,
   "id": "d7ddfade",
   "metadata": {},
   "outputs": [],
   "source": []
  }
 ],
 "metadata": {
  "kernelspec": {
   "display_name": "venv",
   "language": "python",
   "name": "venv"
  },
  "language_info": {
   "codemirror_mode": {
    "name": "ipython",
    "version": 3
   },
   "file_extension": ".py",
   "mimetype": "text/x-python",
   "name": "python",
   "nbconvert_exporter": "python",
   "pygments_lexer": "ipython3",
   "version": "3.9.12"
  }
 },
 "nbformat": 4,
 "nbformat_minor": 5
}
