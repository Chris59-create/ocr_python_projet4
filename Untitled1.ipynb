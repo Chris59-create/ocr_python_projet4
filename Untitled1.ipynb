{
 "cells": [
  {
   "cell_type": "code",
   "execution_count": 1,
   "id": "89af6aa1",
   "metadata": {},
   "outputs": [],
   "source": [
    "list0 = [\"a\", \"b\", \"c\", \"d\", \"e\", \"f\", \"g\", \"h\"]"
   ]
  },
  {
   "cell_type": "code",
   "execution_count": 2,
   "id": "172b803f",
   "metadata": {},
   "outputs": [
    {
     "data": {
      "text/plain": [
       "8"
      ]
     },
     "execution_count": 2,
     "metadata": {},
     "output_type": "execute_result"
    }
   ],
   "source": [
    "len(list0)"
   ]
  },
  {
   "cell_type": "code",
   "execution_count": 3,
   "id": "26ec0fcb",
   "metadata": {},
   "outputs": [],
   "source": [
    "list1 = []"
   ]
  },
  {
   "cell_type": "markdown",
   "id": "7d6981cf",
   "metadata": {},
   "source": [
    "list1 = [[\"b\", \"a\"], [\"c\", \"d\"], [\"a\", \"c\"], [\"g\", \"h\"], [\"i\", \"j\"]]"
   ]
  },
  {
   "cell_type": "code",
   "execution_count": 4,
   "id": "71c4729c",
   "metadata": {},
   "outputs": [],
   "source": [
    "pairs = []"
   ]
  },
  {
   "cell_type": "code",
   "execution_count": 5,
   "id": "ee3e089e",
   "metadata": {},
   "outputs": [],
   "source": [
    "def search_opponent(list_players, item):\n",
    "    \n",
    "    step = 1\n",
    "    i = 0\n",
    "    \n",
    "    while i < len(list_players):\n",
    "        checker = 0\n",
    "        \n",
    "        next_item = list_players[list_players.index(item)+step]\n",
    "\n",
    "        checker = check_opponent(list1, item, next_item)\n",
    "\n",
    "        if checker == 0:\n",
    "            pair = [item, next_item]\n",
    "            i = len(list_players)\n",
    "        else:\n",
    "            step += 1\n",
    "            i += 1\n",
    "\n",
    "        print(\"checker in search\", checker)\n",
    "        print(\"step\", step)\n",
    "                \n",
    "  \n",
    "        print(i)\n",
    "    \n",
    "    return pair"
   ]
  },
  {
   "cell_type": "code",
   "execution_count": 6,
   "id": "78f7c9dc",
   "metadata": {},
   "outputs": [],
   "source": [
    "def check_opponent(list_pairs, item, next_item):\n",
    "    checker = 0\n",
    "    \n",
    "    for pair in list1:\n",
    "        \n",
    "        print(\"to check : \", \"item\", item, \"next item : \", next_item)\n",
    "        print(\"checked : \", pair)\n",
    "        \n",
    "        result = all(element in pair for element in [item, next_item])\n",
    "        print(result)\n",
    "        \n",
    "        if result == True:\n",
    "           checker += 1\n",
    "        else:\n",
    "            checker +=0\n",
    "            \n",
    "    print(\"checker in check\", checker)\n",
    "    \n",
    "    return checker\n",
    "            "
   ]
  },
  {
   "cell_type": "code",
   "execution_count": 7,
   "id": "054fa042",
   "metadata": {},
   "outputs": [
    {
     "name": "stdout",
     "output_type": "stream",
     "text": [
      "after while list0 ['a', 'b', 'c', 'd', 'e', 'f', 'g', 'h']\n",
      "checker in check 0\n",
      "checker in search 0\n",
      "step 1\n",
      "8\n",
      "[['a', 'b']]\n",
      "['c', 'd', 'e', 'f', 'g', 'h']\n",
      "after while list0 ['c', 'd', 'e', 'f', 'g', 'h']\n",
      "checker in check 0\n",
      "checker in search 0\n",
      "step 1\n",
      "6\n",
      "[['a', 'b'], ['c', 'd']]\n",
      "['e', 'f', 'g', 'h']\n",
      "after while list0 ['e', 'f', 'g', 'h']\n",
      "checker in check 0\n",
      "checker in search 0\n",
      "step 1\n",
      "4\n",
      "[['a', 'b'], ['c', 'd'], ['e', 'f']]\n",
      "['g', 'h']\n",
      "after while list0 ['g', 'h']\n",
      "checker in check 0\n",
      "checker in search 0\n",
      "step 1\n",
      "2\n",
      "[['a', 'b'], ['c', 'd'], ['e', 'f'], ['g', 'h']]\n",
      "[]\n"
     ]
    }
   ],
   "source": [
    "round = 1\n",
    "while round <= 4:\n",
    "    while list0:\n",
    "        print(\"after while list0\", list0)\n",
    "        item =list0[0]\n",
    "\n",
    "        pair = search_opponent(list0, item)\n",
    "        pairs.append(pair)\n",
    "        print(pairs)\n",
    "\n",
    "        list0.remove(item)\n",
    "        list0.remove(pair[1])\n",
    "        print(list0)\n",
    "    round += 1"
   ]
  },
  {
   "cell_type": "code",
   "execution_count": null,
   "id": "9cf78323",
   "metadata": {},
   "outputs": [],
   "source": []
  },
  {
   "cell_type": "code",
   "execution_count": null,
   "id": "27f2f7c6",
   "metadata": {},
   "outputs": [],
   "source": []
  },
  {
   "cell_type": "code",
   "execution_count": null,
   "id": "df5a5a1f",
   "metadata": {},
   "outputs": [],
   "source": []
  }
 ],
 "metadata": {
  "kernelspec": {
   "display_name": "Python 3 (ipykernel)",
   "language": "python",
   "name": "python3"
  },
  "language_info": {
   "codemirror_mode": {
    "name": "ipython",
    "version": 3
   },
   "file_extension": ".py",
   "mimetype": "text/x-python",
   "name": "python",
   "nbconvert_exporter": "python",
   "pygments_lexer": "ipython3",
   "version": "3.9.12"
  }
 },
 "nbformat": 4,
 "nbformat_minor": 5
}
