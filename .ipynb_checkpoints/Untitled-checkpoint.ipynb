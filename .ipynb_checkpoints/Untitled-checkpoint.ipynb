{
 "cells": [
  {
   "cell_type": "code",
   "execution_count": 18,
   "id": "89c8ac3d",
   "metadata": {},
   "outputs": [],
   "source": [
    "import operator"
   ]
  },
  {
   "cell_type": "code",
   "execution_count": 19,
   "id": "aafef0d2",
   "metadata": {},
   "outputs": [],
   "source": [
    "class Test:\n",
    "    \n",
    "    def __init__(self, name, rank, score):\n",
    "        self.name = name\n",
    "        self.rank = rank\n",
    "        self.score = score"
   ]
  },
  {
   "cell_type": "code",
   "execution_count": null,
   "id": "809e47b5",
   "metadata": {},
   "outputs": [],
   "source": []
  },
  {
   "cell_type": "code",
   "execution_count": 20,
   "id": "eafc0102",
   "metadata": {},
   "outputs": [],
   "source": [
    "alain = Test(\"Alain\", 3, 1)"
   ]
  },
  {
   "cell_type": "code",
   "execution_count": 21,
   "id": "6961d2c9",
   "metadata": {},
   "outputs": [],
   "source": [
    "thierry = Test(\"Thierry\", 3, 2)"
   ]
  },
  {
   "cell_type": "code",
   "execution_count": 22,
   "id": "ca9c170c",
   "metadata": {},
   "outputs": [],
   "source": [
    "sylvie = Test(\"Sylvie\", 1, 1)"
   ]
  },
  {
   "cell_type": "code",
   "execution_count": 23,
   "id": "e1cf029b",
   "metadata": {},
   "outputs": [],
   "source": [
    "anne = Test(\"Anne\", 3, 4)"
   ]
  },
  {
   "cell_type": "code",
   "execution_count": 24,
   "id": "9bd19778",
   "metadata": {},
   "outputs": [],
   "source": [
    "eric = Test(\"Eric\", 2, 0)"
   ]
  },
  {
   "cell_type": "code",
   "execution_count": 25,
   "id": "b58c0a43",
   "metadata": {},
   "outputs": [],
   "source": [
    "list1 = [alain, thierry, sylvie, anne, eric]"
   ]
  },
  {
   "cell_type": "code",
   "execution_count": 26,
   "id": "0ff6b6ed",
   "metadata": {},
   "outputs": [
    {
     "name": "stdout",
     "output_type": "stream",
     "text": [
      "[<__main__.Test object at 0x7f9251760cd0>, <__main__.Test object at 0x7f92513ceee0>, <__main__.Test object at 0x7f92513cea30>, <__main__.Test object at 0x7f92513ce880>, <__main__.Test object at 0x7f92513ceb80>]\n"
     ]
    }
   ],
   "source": [
    "print(list1)"
   ]
  },
  {
   "cell_type": "code",
   "execution_count": 30,
   "id": "a0165635",
   "metadata": {},
   "outputs": [
    {
     "ename": "AttributeError",
     "evalue": "type object 'Test' has no attribute 'score'",
     "output_type": "error",
     "traceback": [
      "\u001b[0;31m---------------------------------------------------------------------------\u001b[0m",
      "\u001b[0;31mAttributeError\u001b[0m                            Traceback (most recent call last)",
      "Input \u001b[0;32mIn [30]\u001b[0m, in \u001b[0;36m<cell line: 1>\u001b[0;34m()\u001b[0m\n\u001b[0;32m----> 1\u001b[0m list_sorted_by_score \u001b[38;5;241m=\u001b[39m \u001b[38;5;28msorted\u001b[39m(list1, key\u001b[38;5;241m=\u001b[39moperator\u001b[38;5;241m.\u001b[39mitemgetter(\u001b[43mTest\u001b[49m\u001b[38;5;241;43m.\u001b[39;49m\u001b[43mscore\u001b[49m,Test\u001b[38;5;241m.\u001b[39mrank), reverse\u001b[38;5;241m=\u001b[39m\u001b[38;5;28;01mTrue\u001b[39;00m)\n",
      "\u001b[0;31mAttributeError\u001b[0m: type object 'Test' has no attribute 'score'"
     ]
    }
   ],
   "source": [
    "list_sorted_by_score = sorted(list1, key=operator.itemgetter(Test.score,Test.rank), reverse=True)"
   ]
  },
  {
   "cell_type": "code",
   "execution_count": 10,
   "id": "006ef2a8",
   "metadata": {},
   "outputs": [
    {
     "name": "stdout",
     "output_type": "stream",
     "text": [
      "Anne score :  4 rank :  3\n",
      "Thierry score :  2 rank :  3\n",
      "Alain score :  1 rank :  3\n",
      "Sylvie score :  1 rank :  1\n",
      "Eric score :  0 rank :  2\n"
     ]
    }
   ],
   "source": [
    "for player in list_sorted_by_score:\n",
    "    print(player.name, \"score : \", player.score, \"rank : \", player.rank)"
   ]
  },
  {
   "cell_type": "code",
   "execution_count": 11,
   "id": "28907d37",
   "metadata": {},
   "outputs": [],
   "source": [
    "final_list = []"
   ]
  },
  {
   "cell_type": "code",
   "execution_count": 12,
   "id": "2f11feb9",
   "metadata": {},
   "outputs": [
    {
     "name": "stdout",
     "output_type": "stream",
     "text": [
      "3\n"
     ]
    }
   ],
   "source": [
    "print(len(list_sorted_by_score)-2)"
   ]
  },
  {
   "cell_type": "code",
   "execution_count": 13,
   "id": "3b22ade0",
   "metadata": {},
   "outputs": [
    {
     "name": "stdout",
     "output_type": "stream",
     "text": [
      "4\n"
     ]
    }
   ],
   "source": [
    "print(list_sorted_by_score.index(eric))"
   ]
  },
  {
   "cell_type": "code",
   "execution_count": 14,
   "id": "19565a6a",
   "metadata": {},
   "outputs": [
    {
     "name": "stdout",
     "output_type": "stream",
     "text": [
      "3\n"
     ]
    }
   ],
   "source": [
    "index_search = list_sorted_by_score.index(sylvie)\n",
    "print(index_search)"
   ]
  },
  {
   "cell_type": "code",
   "execution_count": 16,
   "id": "c8b2feb9",
   "metadata": {},
   "outputs": [
    {
     "name": "stdout",
     "output_type": "stream",
     "text": [
      "0 Anne Thierry\n",
      "1 Thierry Alain\n",
      "2 Alain Sylvie\n",
      "3 Sylvie Eric\n"
     ]
    },
    {
     "ename": "IndexError",
     "evalue": "list index out of range",
     "output_type": "error",
     "traceback": [
      "\u001b[0;31m---------------------------------------------------------------------------\u001b[0m",
      "\u001b[0;31mIndexError\u001b[0m                                Traceback (most recent call last)",
      "Input \u001b[0;32mIn [16]\u001b[0m, in \u001b[0;36m<cell line: 1>\u001b[0;34m()\u001b[0m\n\u001b[1;32m      2\u001b[0m index_ \u001b[38;5;241m=\u001b[39m list_sorted_by_score\u001b[38;5;241m.\u001b[39mindex(player)\n\u001b[1;32m      3\u001b[0m index_1 \u001b[38;5;241m=\u001b[39m list_sorted_by_score\u001b[38;5;241m.\u001b[39mindex(player) \u001b[38;5;241m+\u001b[39m \u001b[38;5;241m1\u001b[39m\n\u001b[0;32m----> 4\u001b[0m player_1 \u001b[38;5;241m=\u001b[39m \u001b[43mlist_sorted_by_score\u001b[49m\u001b[43m[\u001b[49m\u001b[43mindex_1\u001b[49m\u001b[43m]\u001b[49m\n\u001b[1;32m      5\u001b[0m \u001b[38;5;28mprint\u001b[39m(index_, player\u001b[38;5;241m.\u001b[39mname, player_1\u001b[38;5;241m.\u001b[39mname)\n",
      "\u001b[0;31mIndexError\u001b[0m: list index out of range"
     ]
    }
   ],
   "source": [
    "for player in list_sorted_by_score:\n",
    "    index_ = list_sorted_by_score.index(player)\n",
    "    index_1 = list_sorted_by_score.index(player) + 1\n",
    "    player_1 = list_sorted_by_score[index_1]\n",
    "    print(index_, player.name, player_1.name)"
   ]
  },
  {
   "cell_type": "code",
   "execution_count": null,
   "id": "2248f932",
   "metadata": {},
   "outputs": [],
   "source": [
    "for player in list_sorted_by_score:\n",
    "    index_ = list_sorted_by_score.index(player)\n",
    "    next_player = list_sorted_by_score[list_sorted_by_score.index(player)+1]\n",
    "    if player.score > next_player.score:\n",
    "        final_list.append(player)\n",
    "    elif player.rank > next_player.rank:\n",
    "        final_list.append(player)\n",
    "    elif:\n",
    "        final_list.append(next_player)\n",
    "    else \n"
   ]
  },
  {
   "cell_type": "code",
   "execution_count": null,
   "id": "c97a3bd1",
   "metadata": {},
   "outputs": [],
   "source": [
    "for player in final_list:\n",
    "    print(player.name, \"score : \", player.score, \"rank : \", player.rank)"
   ]
  },
  {
   "cell_type": "code",
   "execution_count": null,
   "id": "9bd1b6f7",
   "metadata": {},
   "outputs": [],
   "source": []
  }
 ],
 "metadata": {
  "kernelspec": {
   "display_name": "Python 3 (ipykernel)",
   "language": "python",
   "name": "python3"
  },
  "language_info": {
   "codemirror_mode": {
    "name": "ipython",
    "version": 3
   },
   "file_extension": ".py",
   "mimetype": "text/x-python",
   "name": "python",
   "nbconvert_exporter": "python",
   "pygments_lexer": "ipython3",
   "version": "3.9.12"
  }
 },
 "nbformat": 4,
 "nbformat_minor": 5
}
